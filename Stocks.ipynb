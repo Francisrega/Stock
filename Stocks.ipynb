{
 "cells": [
  {
   "cell_type": "code",
   "execution_count": 75,
   "metadata": {},
   "outputs": [],
   "source": [
    "import requests\n",
    "import sys\n",
    "import random\n",
    "import tensorflow as tf\n",
    "from datetime import datetime as dt\n",
    "from datetime import timedelta\n",
    "from tensorflow.keras.models import Sequential\n",
    "from tensorflow.keras.layers import LSTM, Dense, Dropout, Bidirectional\n",
    "from tensorflow.keras.callbacks import ModelCheckpoint, TensorBoard\n",
    "from sklearn import preprocessing\n",
    "from yahoo_fin import stock_info as si\n",
    "from sklearn.model_selection import train_test_split\n",
    "from sklearn.metrics import accuracy_score\n",
    "from alpha_vantage.timeseries import TimeSeries\n",
    "from collections import deque\n",
    "\n",
    "import numpy as np\n",
    "import pandas as pd\n",
    "import matplotlib.pyplot as plt\n",
    "import time\n",
    "import os\n",
    "import random"
   ]
  },
  {
   "cell_type": "code",
   "execution_count": 76,
   "metadata": {},
   "outputs": [
    {
     "name": "stdout",
     "output_type": "stream",
     "text": [
      "{'2020-09-21 20:00:00': {'1. open': '110.7000', '2. high': '111.0000', '3. low': '110.6600', '4. close': '110.9500', '5. volume': '167174'}, '2020-09-21 19:45:00': {'1. open': '110.4900', '2. high': '110.7500', '3. low': '110.4000', '4. close': '110.7300', '5. volume': '116046'}, '2020-09-21 19:30:00': {'1. open': '110.0300', '2. high': '110.4700', '3. low': '110.0300', '4. close': '110.4700', '5. volume': '105117'}, '2020-09-21 19:15:00': {'1. open': '110.1000', '2. high': '110.1000', '3. low': '109.9400', '4. close': '110.0000', '5. volume': '35917'}, '2020-09-21 19:00:00': {'1. open': '110.0200', '2. high': '110.1500', '3. low': '110.0100', '4. close': '110.1000', '5. volume': '82992'}, '2020-09-21 18:45:00': {'1. open': '110.1200', '2. high': '110.1500', '3. low': '110.0000', '4. close': '110.0000', '5. volume': '59711'}, '2020-09-21 18:30:00': {'1. open': '110.2500', '2. high': '110.2800', '3. low': '110.0000', '4. close': '110.1500', '5. volume': '67402'}, '2020-09-21 18:15:00': {'1. open': '109.9200', '2. high': '110.3600', '3. low': '109.8800', '4. close': '110.2500', '5. volume': '135022'}, '2020-09-21 18:00:00': {'1. open': '109.8000', '2. high': '110.0500', '3. low': '109.7700', '4. close': '109.8600', '5. volume': '108662'}, '2020-09-21 17:45:00': {'1. open': '110.0000', '2. high': '110.0800', '3. low': '109.6900', '4. close': '109.8000', '5. volume': '286483'}, '2020-09-21 17:30:00': {'1. open': '109.7000', '2. high': '110.1000', '3. low': '109.4400', '4. close': '110.0500', '5. volume': '228164'}, '2020-09-21 17:15:00': {'1. open': '110.0600', '2. high': '110.1700', '3. low': '109.7000', '4. close': '109.7500', '5. volume': '198263'}, '2020-09-21 17:00:00': {'1. open': '110.0800', '2. high': '110.3200', '3. low': '110.0302', '4. close': '110.0400', '5. volume': '176583'}, '2020-09-21 16:45:00': {'1. open': '109.9800', '2. high': '110.2800', '3. low': '109.9200', '4. close': '110.0800', '5. volume': '625383'}, '2020-09-21 16:30:00': {'1. open': '110.3900', '2. high': '110.3900', '3. low': '109.8600', '4. close': '109.9000', '5. volume': '403124'}, '2020-09-21 16:15:00': {'1. open': '110.0800', '2. high': '110.7000', '3. low': '110.0800', '4. close': '110.3900', '5. volume': '2693367'}, '2020-09-21 16:00:00': {'1. open': '109.1800', '2. high': '110.1900', '3. low': '109.0100', '4. close': '110.1300', '5. volume': '13018416'}, '2020-09-21 15:45:00': {'1. open': '108.4500', '2. high': '109.4600', '3. low': '108.3300', '4. close': '109.1700', '5. volume': '10094715'}, '2020-09-21 15:30:00': {'1. open': '107.9600', '2. high': '108.7000', '3. low': '107.9301', '4. close': '108.4450', '5. volume': '8031205'}, '2020-09-21 15:15:00': {'1. open': '107.3300', '2. high': '108.0000', '3. low': '107.2300', '4. close': '107.9600', '5. volume': '5575381'}, '2020-09-21 15:00:00': {'1. open': '106.6174', '2. high': '107.4500', '3. low': '106.5800', '4. close': '107.3400', '5. volume': '3758574'}, '2020-09-21 14:45:00': {'1. open': '107.1400', '2. high': '107.1500', '3. low': '106.4610', '4. close': '106.6219', '5. volume': '3362408'}, '2020-09-21 14:30:00': {'1. open': '107.0050', '2. high': '107.2400', '3. low': '106.6800', '4. close': '107.1450', '5. volume': '3324416'}, '2020-09-21 14:15:00': {'1. open': '107.1000', '2. high': '107.3650', '3. low': '106.7600', '4. close': '107.0065', '5. volume': '3706583'}, '2020-09-21 14:00:00': {'1. open': '107.3600', '2. high': '107.3716', '3. low': '106.7200', '4. close': '107.0992', '5. volume': '4366876'}, '2020-09-21 13:45:00': {'1. open': '107.2300', '2. high': '107.8000', '3. low': '107.2100', '4. close': '107.3693', '5. volume': '4221173'}, '2020-09-21 13:30:00': {'1. open': '107.0850', '2. high': '107.6496', '3. low': '107.0600', '4. close': '107.2315', '5. volume': '4833573'}, '2020-09-21 13:15:00': {'1. open': '106.7800', '2. high': '107.1200', '3. low': '106.3000', '4. close': '107.1000', '5. volume': '4264009'}, '2020-09-21 13:00:00': {'1. open': '106.9650', '2. high': '107.3600', '3. low': '106.6500', '4. close': '106.7850', '5. volume': '4278223'}, '2020-09-21 12:45:00': {'1. open': '107.3800', '2. high': '107.4599', '3. low': '106.8700', '4. close': '106.9613', '5. volume': '3913521'}, '2020-09-21 12:30:00': {'1. open': '106.7899', '2. high': '107.5700', '3. low': '106.6000', '4. close': '107.3693', '5. volume': '5225853'}, '2020-09-21 12:15:00': {'1. open': '106.4714', '2. high': '107.5000', '3. low': '106.4714', '4. close': '106.7900', '5. volume': '6657810'}, '2020-09-21 12:00:00': {'1. open': '105.8400', '2. high': '106.5100', '3. low': '105.8300', '4. close': '106.4700', '5. volume': '4902505'}, '2020-09-21 11:45:00': {'1. open': '105.5865', '2. high': '106.0900', '3. low': '105.1800', '4. close': '105.8400', '5. volume': '4829196'}, '2020-09-21 11:30:00': {'1. open': '105.5140', '2. high': '105.6400', '3. low': '104.9000', '4. close': '105.5829', '5. volume': '5090529'}, '2020-09-21 11:15:00': {'1. open': '105.2250', '2. high': '106.0400', '3. low': '105.0500', '4. close': '105.5000', '5. volume': '6242981'}, '2020-09-21 11:00:00': {'1. open': '105.0150', '2. high': '105.5900', '3. low': '104.5600', '4. close': '105.2199', '5. volume': '7573133'}, '2020-09-21 10:45:00': {'1. open': '105.4200', '2. high': '105.8600', '3. low': '104.8400', '4. close': '105.0200', '5. volume': '8321796'}, '2020-09-21 10:30:00': {'1. open': '106.5802', '2. high': '106.9000', '3. low': '105.2900', '4. close': '105.4300', '5. volume': '8474770'}, '2020-09-21 10:15:00': {'1. open': '107.3600', '2. high': '107.7000', '3. low': '106.1400', '4. close': '106.5950', '5. volume': '10291386'}, '2020-09-21 10:00:00': {'1. open': '106.1400', '2. high': '107.8500', '3. low': '105.8600', '4. close': '107.3600', '5. volume': '13321782'}, '2020-09-21 09:45:00': {'1. open': '104.5400', '2. high': '106.2000', '3. low': '103.1000', '4. close': '106.1500', '5. volume': '18960820'}, '2020-09-21 09:30:00': {'1. open': '104.3699', '2. high': '104.6500', '3. low': '104.1000', '4. close': '104.5200', '5. volume': '475216'}, '2020-09-21 09:15:00': {'1. open': '104.4400', '2. high': '104.4800', '3. low': '104.0000', '4. close': '104.3600', '5. volume': '576522'}, '2020-09-21 09:00:00': {'1. open': '103.6500', '2. high': '104.6600', '3. low': '103.6499', '4. close': '104.4700', '5. volume': '600699'}, '2020-09-21 08:45:00': {'1. open': '103.9900', '2. high': '104.0900', '3. low': '103.6400', '4. close': '103.6500', '5. volume': '347550'}, '2020-09-21 08:30:00': {'1. open': '104.0400', '2. high': '104.2400', '3. low': '103.8500', '4. close': '104.0000', '5. volume': '395398'}, '2020-09-21 08:15:00': {'1. open': '104.5200', '2. high': '105.3500', '3. low': '103.3800', '4. close': '104.0400', '5. volume': '1003017'}, '2020-09-21 08:00:00': {'1. open': '104.1110', '2. high': '104.7400', '3. low': '104.1000', '4. close': '104.4900', '5. volume': '296269'}, '2020-09-21 07:45:00': {'1. open': '103.5600', '2. high': '104.2000', '3. low': '103.4300', '4. close': '104.1500', '5. volume': '321646'}, '2020-09-21 07:30:00': {'1. open': '104.2500', '2. high': '104.2900', '3. low': '103.3600', '4. close': '103.5900', '5. volume': '289839'}, '2020-09-21 07:15:00': {'1. open': '105.1500', '2. high': '105.4400', '3. low': '103.9100', '4. close': '104.2500', '5. volume': '829101'}, '2020-09-21 07:00:00': {'1. open': '105.0200', '2. high': '105.2000', '3. low': '104.8800', '4. close': '105.2000', '5. volume': '52966'}, '2020-09-21 06:45:00': {'1. open': '104.6500', '2. high': '105.1000', '3. low': '104.6500', '4. close': '105.0100', '5. volume': '68251'}, '2020-09-21 06:30:00': {'1. open': '104.2400', '2. high': '105.0000', '3. low': '104.2000', '4. close': '104.6600', '5. volume': '53514'}, '2020-09-21 06:15:00': {'1. open': '104.0800', '2. high': '104.4400', '3. low': '104.0000', '4. close': '104.2000', '5. volume': '25458'}, '2020-09-21 06:00:00': {'1. open': '104.2000', '2. high': '104.3900', '3. low': '103.9100', '4. close': '104.0500', '5. volume': '62950'}, '2020-09-21 05:45:00': {'1. open': '104.6500', '2. high': '104.7000', '3. low': '104.1200', '4. close': '104.2000', '5. volume': '56415'}, '2020-09-21 05:30:00': {'1. open': '104.9000', '2. high': '105.0000', '3. low': '104.3000', '4. close': '104.4300', '5. volume': '28893'}, '2020-09-21 05:15:00': {'1. open': '104.3600', '2. high': '105.2300', '3. low': '104.2000', '4. close': '104.9000', '5. volume': '60660'}, '2020-09-21 05:00:00': {'1. open': '104.2200', '2. high': '104.5400', '3. low': '103.9200', '4. close': '104.3700', '5. volume': '90034'}, '2020-09-21 04:45:00': {'1. open': '104.7900', '2. high': '104.8000', '3. low': '104.1700', '4. close': '104.2200', '5. volume': '56477'}, '2020-09-21 04:30:00': {'1. open': '104.8700', '2. high': '104.9500', '3. low': '104.3800', '4. close': '104.7200', '5. volume': '83129'}, '2020-09-21 04:15:00': {'1. open': '105.6400', '2. high': '105.6800', '3. low': '104.9000', '4. close': '104.9000', '5. volume': '103185'}, '2020-09-18 20:00:00': {'1. open': '106.9500', '2. high': '106.9900', '3. low': '106.8600', '4. close': '106.9300', '5. volume': '98719'}, '2020-09-18 19:45:00': {'1. open': '106.9400', '2. high': '106.9800', '3. low': '106.9100', '4. close': '106.9500', '5. volume': '47400'}, '2020-09-18 19:30:00': {'1. open': '106.9800', '2. high': '107.0000', '3. low': '106.8400', '4. close': '106.9300', '5. volume': '84245'}, '2020-09-18 19:15:00': {'1. open': '106.9100', '2. high': '106.9900', '3. low': '106.8700', '4. close': '106.9900', '5. volume': '61305'}, '2020-09-18 19:00:00': {'1. open': '106.9200', '2. high': '106.9600', '3. low': '106.8800', '4. close': '106.9100', '5. volume': '40783'}, '2020-09-18 18:45:00': {'1. open': '106.8800', '2. high': '106.9500', '3. low': '106.8800', '4. close': '106.9200', '5. volume': '31268'}, '2020-09-18 18:30:00': {'1. open': '106.9300', '2. high': '106.9600', '3. low': '106.8800', '4. close': '106.9000', '5. volume': '40517'}, '2020-09-18 18:15:00': {'1. open': '107.0000', '2. high': '107.0000', '3. low': '106.9300', '4. close': '106.9399', '5. volume': '55576'}, '2020-09-18 18:00:00': {'1. open': '106.8500', '2. high': '107.0000', '3. low': '106.8300', '4. close': '107.0000', '5. volume': '321767'}, '2020-09-18 17:45:00': {'1. open': '106.8800', '2. high': '106.8800', '3. low': '106.7500', '4. close': '106.8500', '5. volume': '101739'}, '2020-09-18 17:30:00': {'1. open': '106.8900', '2. high': '106.9500', '3. low': '106.8500', '4. close': '106.8700', '5. volume': '457818'}, '2020-09-18 17:15:00': {'1. open': '107.0000', '2. high': '107.0400', '3. low': '106.8400', '4. close': '106.8800', '5. volume': '177130'}, '2020-09-18 17:00:00': {'1. open': '106.9800', '2. high': '108.8476', '3. low': '106.9600', '4. close': '107.0200', '5. volume': '498489'}, '2020-09-18 16:45:00': {'1. open': '107.0000', '2. high': '107.0500', '3. low': '106.8480', '4. close': '106.9700', '5. volume': '609749'}, '2020-09-18 16:30:00': {'1. open': '106.9700', '2. high': '107.1100', '3. low': '106.8400', '4. close': '106.9800', '5. volume': '1045008'}, '2020-09-18 16:15:00': {'1. open': '106.8400', '2. high': '107.4200', '3. low': '106.6100', '4. close': '107.0200', '5. volume': '21618783'}, '2020-09-18 16:00:00': {'1. open': '107.8600', '2. high': '108.1000', '3. low': '106.5500', '4. close': '106.6000', '5. volume': '16503144'}, '2020-09-18 15:45:00': {'1. open': '107.6950', '2. high': '108.3600', '3. low': '107.6500', '4. close': '107.8550', '5. volume': '6354156'}, '2020-09-18 15:30:00': {'1. open': '107.5700', '2. high': '108.0093', '3. low': '107.2800', '4. close': '107.6981', '5. volume': '5191791'}, '2020-09-18 15:15:00': {'1. open': '107.6100', '2. high': '107.8800', '3. low': '107.4300', '4. close': '107.5675', '5. volume': '5242499'}, '2020-09-18 15:00:00': {'1. open': '107.1711', '2. high': '107.6500', '3. low': '107.1300', '4. close': '107.6000', '5. volume': '3804589'}, '2020-09-18 14:45:00': {'1. open': '107.4300', '2. high': '107.6500', '3. low': '107.0900', '4. close': '107.1900', '5. volume': '4643837'}, '2020-09-18 14:30:00': {'1. open': '107.1101', '2. high': '107.7400', '3. low': '106.8600', '4. close': '107.4310', '5. volume': '5581191'}, '2020-09-18 14:15:00': {'1. open': '107.3100', '2. high': '107.3277', '3. low': '106.7700', '4. close': '107.1150', '5. volume': '4942371'}, '2020-09-18 14:00:00': {'1. open': '106.5700', '2. high': '107.3900', '3. low': '106.3700', '4. close': '107.3150', '5. volume': '6102957'}, '2020-09-18 13:45:00': {'1. open': '106.2200', '2. high': '106.6900', '3. low': '106.0900', '4. close': '106.5750', '5. volume': '7235668'}, '2020-09-18 13:30:00': {'1. open': '107.0750', '2. high': '107.0750', '3. low': '106.2000', '4. close': '106.2200', '5. volume': '6273055'}, '2020-09-18 13:15:00': {'1. open': '106.9600', '2. high': '107.1500', '3. low': '106.5500', '4. close': '107.0800', '5. volume': '6297159'}, '2020-09-18 13:00:00': {'1. open': '106.9614', '2. high': '107.1600', '3. low': '106.5200', '4. close': '106.9587', '5. volume': '7156945'}, '2020-09-18 12:45:00': {'1. open': '107.5601', '2. high': '107.6500', '3. low': '106.7200', '4. close': '106.9800', '5. volume': '9509371'}, '2020-09-18 12:30:00': {'1. open': '107.7200', '2. high': '107.7700', '3. low': '107.2500', '4. close': '107.5700', '5. volume': '7111507'}, '2020-09-18 12:15:00': {'1. open': '108.1400', '2. high': '109.7000', '3. low': '107.6500', '4. close': '107.7300', '5. volume': '5887680'}, '2020-09-18 12:00:00': {'1. open': '107.4500', '2. high': '108.3500', '3. low': '107.4201', '4. close': '108.1400', '5. volume': '6281652'}, '2020-09-18 11:45:00': {'1. open': '107.9300', '2. high': '107.9400', '3. low': '107.2000', '4. close': '107.4454', '5. volume': '8382586'}, '2020-09-18 11:30:00': {'1. open': '107.8400', '2. high': '108.2900', '3. low': '107.7600', '4. close': '107.9306', '5. volume': '6058382'}, '2020-09-18 11:15:00': {'1. open': '108.1800', '2. high': '108.4300', '3. low': '107.5500', '4. close': '107.8400', '5. volume': '10749776'}}\n"
     ]
    }
   ],
   "source": [
    "ticker = str(sys.argv[1])\n",
    "lines = open('keys').read().splitlines()\n",
    "key = random.choice(lines)\n",
    "ts = TimeSeries(key=key)\n",
    "data, meta_data = ts.get_intraday('AAPL');\n",
    "print(data)"
   ]
  },
  {
   "cell_type": "code",
   "execution_count": 77,
   "metadata": {},
   "outputs": [],
   "source": [
    "def load_data(ticker, n_steps = 50, scale = True, shuffle = True, lookup_step=1,\n",
    "             test_size =0.2, feature_columns = ['adjclose', 'volume', 'open', 'high', 'low']):\n",
    "    if isinstance(ticker, str):\n",
    "        df = si.get_data(ticker)\n",
    "    elif isinstance(ticker, pd.DataFrame):\n",
    "        df = ticker\n",
    "    else:\n",
    "        raise TypeError(\"ticker can be either str or a `pd.DataFrame` instances\")\n",
    "    result = {}\n",
    "    result ['df'] = df.copy()\n",
    "    \n",
    "    for col in feature_columns:\n",
    "        assert col in df.columns, f\"'{col}' does not exist in the data frame.\"\n",
    "    if scale:\n",
    "        column_scaler = {}\n",
    "        \n",
    "        for column in feature_columns:\n",
    "            scaler = preprocessing.MinMaxScaler()\n",
    "            df[column] = scaler.fit_transform(np.expand_dims(df[column].values, axis=1))\n",
    "            column_scaler[column] = scaler\n",
    "        \n",
    "        results[\"column_scaler\"] = column_scaler\n",
    "    df['future'] = df ['adjclose'].shift(-lookup-step)\n",
    "    last_sequence = np.array(df[feature_columns].tail(lookup_step))\n",
    "    df.dropna(inplace=True)\n",
    "    sequence_data = []\n",
    "    sequence = deque(maxlen=n_steps)\n",
    "    for entry, target in zip(df[feature_columns].values, df['future'].values):\n",
    "        sequences.append(entry)\n",
    "        if len(sequences) == n_steps:\n",
    "            sequence_data.append([np.array(sequences), target])\n",
    "    last_sequence = list(sequences) + list(last_sequence)\n",
    "    last_sequence = np.array(last_sequence)\n",
    "    results['last_sequence'] = last_sequence\n",
    "    X, y = [], []\n",
    "    for seq, target in sequence_data:\n",
    "        X.append(seq)\n",
    "        y.append(target)\n",
    "        \n",
    "    X = np.array(X)\n",
    "    y = np.array(y)\n",
    "    \n",
    "    X = X.reshape((X.shape[0], X.shape[2], X.shape[1]))\n",
    "    \n",
    "    result[\"X_train\"], result[\"X_test\"], result[\"y_train\"], result[\"y_test\"] = train_test_split(X,y, test_size = test_size, shuffle=shuffle)\n",
    "    \n",
    "    return result"
   ]
  },
  {
   "cell_type": "code",
   "execution_count": 78,
   "metadata": {},
   "outputs": [],
   "source": [
    "def create_model(sequence_length, units=256, cells=LSTM, n_layers =2, dropout=0.3,\n",
    "                loss = \"mean_absolute_error\", optimizer = \"rmsprop\", bidirectional= False):\n",
    "    model = Sequential()\n",
    "    for i in range(n_layers):\n",
    "        if i == 0:\n",
    "            #this is the first layer\n",
    "            if bidirectional:\n",
    "                model.add(Bidirectional(cell(units, return_sequences=True), input_shape = (None, sequence_length)))\n",
    "            else:\n",
    "                model.add(cell(units, return_sequence=True, input_shape=(None, sequence_length)))\n",
    "        elif i == n_layers -1:\n",
    "            #the last layer\n",
    "            if bidirectional:\n",
    "                model.add(Bidirectional(cell(units, return_sequences=False)))\n",
    "            else:\n",
    "                model.add(cell(units, return_sequences = False))\n",
    "        else:\n",
    "            #The hidden layers\n",
    "            if bidirectional:\n",
    "                model.add(Bidirectional(cell(units, return_sequences=True)))\n",
    "            else:\n",
    "                model.add(Bidirectional(cell(units, return_sequences=True)))\n",
    "        #adds a dropout after each layer\n",
    "        model.add(Dropout(dropout))\n",
    "        model.add(Dense(1, activation,\"linear\"))\n",
    "        model.compile(loss=loss, metrics=[\"mean_absolute_error\"], optimizer=optimizer)\n",
    "        return model"
   ]
  },
  {
   "cell_type": "code",
   "execution_count": 79,
   "metadata": {},
   "outputs": [],
   "source": [
    "N_STEPS = 50\n",
    "LOOKUP_STEP = 1\n",
    "TEST_SIZE = 0.2\n",
    "FEATURE_COLUMN = [\"adjclose\", \"volume\", \"open\", \"high\", \"low\"]\n",
    "today = dt.now()\n",
    "dt = today\n",
    "date_now = dt.strftime(\"%Y-%m-%d\")\n",
    "N_LAYERS = 2\n",
    "CELL = LSTM\n",
    "UNITS = 256\n",
    "DROPOUT = 0.4\n",
    "BIDIRECTIONAL = False\n",
    "LOSS = \"huber_loss\"\n",
    "OPTIMIZER = \"adam\"\n",
    "BATCH_SIZE = 64\n",
    "EPOCHS = 5\n",
    "ticker = \"GOOGL\"\n",
    "ticker_data_filename = os.path.join(\"data\", f\"{ticker}_{date_now}.csv\")\n",
    "model_name = f\"{date_now}_{ticker}-{LOSS}-{OPTIMIZER}-{CELL.__name__}-seq-{N_STEPS}-step-{LOOKUP_STEP}-layers-{N_LAYERS}-units-{UNITS}\"\n",
    "if BIDIRECTIONAL:\n",
    "    model_name += \"-b\""
   ]
  },
  {
   "cell_type": "code",
   "execution_count": 80,
   "metadata": {},
   "outputs": [],
   "source": [
    "if not os.path.isdir(\"results\"):\n",
    "    os.mkdir(\"results\")\n",
    "if not os.path.isdir(\"logs\"):\n",
    "    os.mkdir(\"logs\")\n",
    "if not os.path.isdir(\"data\"):\n",
    "    os.mkdir(\"data\")"
   ]
  },
  {
   "cell_type": "code",
   "execution_count": 81,
   "metadata": {},
   "outputs": [
    {
     "ename": "NameError",
     "evalue": "name 'results' is not defined",
     "output_type": "error",
     "traceback": [
      "\u001b[0;31m---------------------------------------------------------------------------\u001b[0m",
      "\u001b[0;31mNameError\u001b[0m                                 Traceback (most recent call last)",
      "\u001b[0;32m<ipython-input-81-6c9c36acd3d2>\u001b[0m in \u001b[0;36m<module>\u001b[0;34m\u001b[0m\n\u001b[0;32m----> 1\u001b[0;31m \u001b[0mdata\u001b[0m \u001b[0;34m=\u001b[0m \u001b[0mload_data\u001b[0m\u001b[0;34m(\u001b[0m\u001b[0mticker\u001b[0m\u001b[0;34m,\u001b[0m \u001b[0mN_STEPS\u001b[0m\u001b[0;34m,\u001b[0m \u001b[0mlookup_step\u001b[0m \u001b[0;34m=\u001b[0m \u001b[0mLOOKUP_STEP\u001b[0m\u001b[0;34m,\u001b[0m \u001b[0mtest_size\u001b[0m\u001b[0;34m=\u001b[0m\u001b[0mTEST_SIZE\u001b[0m\u001b[0;34m,\u001b[0m \u001b[0mfeature_columns\u001b[0m\u001b[0;34m=\u001b[0m\u001b[0mFEATURE_COLUMN\u001b[0m\u001b[0;34m)\u001b[0m\u001b[0;34m\u001b[0m\u001b[0;34m\u001b[0m\u001b[0m\n\u001b[0m\u001b[1;32m      2\u001b[0m \u001b[0mdata\u001b[0m\u001b[0;34m[\u001b[0m\u001b[0;34m\"df\"\u001b[0m\u001b[0;34m]\u001b[0m\u001b[0;34m.\u001b[0m\u001b[0mto_csv\u001b[0m\u001b[0;34m(\u001b[0m\u001b[0mticker_data_filename\u001b[0m\u001b[0;34m)\u001b[0m\u001b[0;34m\u001b[0m\u001b[0;34m\u001b[0m\u001b[0m\n\u001b[1;32m      3\u001b[0m model = create_model(N_STEPS, loss = LOSS, units=UNITS, cell = CELL, n_layers=N_LAYERS, dropout=DROPOUT, optimizer = OPTIMIZER,\n\u001b[1;32m      4\u001b[0m                     bidirectional = BIDIRECTIONAL)\n\u001b[1;32m      5\u001b[0m \u001b[0;34m\u001b[0m\u001b[0m\n",
      "\u001b[0;32m<ipython-input-77-7d3368ec26be>\u001b[0m in \u001b[0;36mload_data\u001b[0;34m(ticker, n_steps, scale, shuffle, lookup_step, test_size, feature_columns)\u001b[0m\n\u001b[1;32m     20\u001b[0m             \u001b[0mcolumn_scaler\u001b[0m\u001b[0;34m[\u001b[0m\u001b[0mcolumn\u001b[0m\u001b[0;34m]\u001b[0m \u001b[0;34m=\u001b[0m \u001b[0mscaler\u001b[0m\u001b[0;34m\u001b[0m\u001b[0;34m\u001b[0m\u001b[0m\n\u001b[1;32m     21\u001b[0m \u001b[0;34m\u001b[0m\u001b[0m\n\u001b[0;32m---> 22\u001b[0;31m         \u001b[0mresults\u001b[0m\u001b[0;34m[\u001b[0m\u001b[0;34m\"column_scaler\"\u001b[0m\u001b[0;34m]\u001b[0m \u001b[0;34m=\u001b[0m \u001b[0mcolumn_scaler\u001b[0m\u001b[0;34m\u001b[0m\u001b[0;34m\u001b[0m\u001b[0m\n\u001b[0m\u001b[1;32m     23\u001b[0m     \u001b[0mdf\u001b[0m\u001b[0;34m[\u001b[0m\u001b[0;34m'future'\u001b[0m\u001b[0;34m]\u001b[0m \u001b[0;34m=\u001b[0m \u001b[0mdf\u001b[0m \u001b[0;34m[\u001b[0m\u001b[0;34m'adjclose'\u001b[0m\u001b[0;34m]\u001b[0m\u001b[0;34m.\u001b[0m\u001b[0mshift\u001b[0m\u001b[0;34m(\u001b[0m\u001b[0;34m-\u001b[0m\u001b[0mlookup\u001b[0m\u001b[0;34m-\u001b[0m\u001b[0mstep\u001b[0m\u001b[0;34m)\u001b[0m\u001b[0;34m\u001b[0m\u001b[0;34m\u001b[0m\u001b[0m\n\u001b[1;32m     24\u001b[0m     \u001b[0mlast_sequence\u001b[0m \u001b[0;34m=\u001b[0m \u001b[0mnp\u001b[0m\u001b[0;34m.\u001b[0m\u001b[0marray\u001b[0m\u001b[0;34m(\u001b[0m\u001b[0mdf\u001b[0m\u001b[0;34m[\u001b[0m\u001b[0mfeature_columns\u001b[0m\u001b[0;34m]\u001b[0m\u001b[0;34m.\u001b[0m\u001b[0mtail\u001b[0m\u001b[0;34m(\u001b[0m\u001b[0mlookup_step\u001b[0m\u001b[0;34m)\u001b[0m\u001b[0;34m)\u001b[0m\u001b[0;34m\u001b[0m\u001b[0;34m\u001b[0m\u001b[0m\n",
      "\u001b[0;31mNameError\u001b[0m: name 'results' is not defined"
     ]
    }
   ],
   "source": [
    "data = load_data(ticker, N_STEPS, lookup_step = LOOKUP_STEP, test_size=TEST_SIZE, feature_columns=FEATURE_COLUMN)\n",
    "data[\"df\"].to_csv(ticker_data_filename)\n",
    "model = create_model(N_STEPS, loss = LOSS, units=UNITS, cell = CELL, n_layers=N_LAYERS, dropout=DROPOUT, optimizer = OPTIMIZER,\n",
    "                    bidirectional = BIDIRECTIONAL)\n",
    "\n",
    "checkpointer = ModelCheckpoint(os.path.join(\"results\", model_name + \".h5\"), save_weights_only = True, save_best_only= True, verbose = 1)\n",
    "tensorboard = TensorBoard(log_dir = os.path.join(\"logs\", model_name))\n",
    "history = model.fit(data[\"X_train\"], data[\"y_train\"], batch_size= BATCH_SIZE, epochs = EPOCHS,\n",
    "                   validation_data=(data[\"X_test\"], data[\"y_test\"]), callbacks=[checkpoint, tensorboard], verbose = 1)\n",
    "model.save(os.path.join(\"results\", model_name) + \".h5\")"
   ]
  },
  {
   "cell_type": "code",
   "execution_count": null,
   "metadata": {},
   "outputs": [],
   "source": []
  }
 ],
 "metadata": {
  "kernelspec": {
   "display_name": "Python 3",
   "language": "python",
   "name": "python3"
  },
  "language_info": {
   "codemirror_mode": {
    "name": "ipython",
    "version": 3
   },
   "file_extension": ".py",
   "mimetype": "text/x-python",
   "name": "python",
   "nbconvert_exporter": "python",
   "pygments_lexer": "ipython3",
   "version": "3.7.3"
  }
 },
 "nbformat": 4,
 "nbformat_minor": 2
}
